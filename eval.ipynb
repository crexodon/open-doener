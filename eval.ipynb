{
 "cells": [
  {
   "cell_type": "code",
   "execution_count": 1,
   "metadata": {},
   "outputs": [
    {
     "name": "stdout",
     "output_type": "stream",
     "text": [
      "ID: 1, Name: Pizza Kebap Haus, Price: 8.0, Location: {\"latitude\":49.1448876875684,\"longitude\":9.220654070377352}\n",
      "ID: 2, Name: Divan 2, Price: 7.5, Location: {\"latitude\":49.14463853901513,\"longitude\":9.220721125602724}\n",
      "ID: 3, Name: Döner Eck, Price: 7.0, Location: {\"latitude\":49.14468591242803,\"longitude\":9.22106981277466}\n",
      "ID: 4, Name: MEZOPOTAMYA, Price: 5.5, Location: {\"latitude\":49.14551055347107,\"longitude\":9.220029115676882}\n",
      "ID: 5, Name: Star Kebap, Price: 6.0, Location: {\"latitude\":49.143134848264644,\"longitude\":9.22031342983246}\n",
      "ID: 6, Name: Merkez, Price: 6.5, Location: {\"latitude\":49.14192414227402,\"longitude\":9.218368828296663}\n",
      "ID: 7, Name: Stern Kebap, Price: 8.0, Location: {\"latitude\":49.14055372777727,\"longitude\":9.22032952308655}\n",
      "ID: 8, Name: Otantik, Price: 7.0, Location: {\"latitude\":49.13836203863693,\"longitude\":9.220359027385713}\n",
      "ID: 9, Name: Alaturka, Price: 10.0, Location: {\"latitude\":49.14159601830976,\"longitude\":9.217143058776857}\n",
      "ID: 10, Name: Aleppo, Price: 7.0, Location: {\"latitude\":49.14241193752085,\"longitude\":9.216869473457338}\n",
      "ID: 11, Name: Pizza und Kebaphaus, Price: 7.0, Location: {\"latitude\":49.14196625428325,\"longitude\":9.208409786224367}\n",
      "ID: 12, Name: Metropol, Price: 8.0, Location: {\"latitude\":49.142220680244485,\"longitude\":9.208731651306154}\n"
     ]
    }
   ],
   "source": [
    "import sqlite3\n",
    "\n",
    "try:\n",
    "    conn = sqlite3.connect('data.db')\n",
    "    cursor = conn.cursor()\n",
    "\n",
    "    # Execute a SELECT query\n",
    "    cursor.execute('SELECT * FROM items')\n",
    "\n",
    "    # Fetch all rows\n",
    "    rows = cursor.fetchall()\n",
    "\n",
    "    # Print the retrieved data\n",
    "    for row in rows:\n",
    "        print(f\"ID: {row[0]}, Name: {row[1]}, Price: {row[2]}, Location: {row[3]}\")\n",
    "\n",
    "    # Close the connection\n",
    "    conn.close()\n",
    "\n",
    "except Exception as e:\n",
    "    print(f\"Error: {str(e)}\")"
   ]
  }
 ],
 "metadata": {
  "kernelspec": {
   "display_name": "open-doener",
   "language": "python",
   "name": "python3"
  },
  "language_info": {
   "codemirror_mode": {
    "name": "ipython",
    "version": 3
   },
   "file_extension": ".py",
   "mimetype": "text/x-python",
   "name": "python",
   "nbconvert_exporter": "python",
   "pygments_lexer": "ipython3",
   "version": "3.11.7"
  }
 },
 "nbformat": 4,
 "nbformat_minor": 2
}
